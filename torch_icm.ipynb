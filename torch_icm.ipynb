{
 "cells": [
  {
   "cell_type": "code",
   "execution_count": null,
   "metadata": {},
   "outputs": [],
   "source": [
    "import network_diffusion as nd\n",
    "import numpy as np\n",
    "import torch\n",
    "import torch_geometric as pyg"
   ]
  },
  {
   "cell_type": "code",
   "execution_count": null,
   "metadata": {},
   "outputs": [],
   "source": [
    "p = 0.7"
   ]
  },
  {
   "cell_type": "code",
   "execution_count": null,
   "metadata": {},
   "outputs": [],
   "source": [
    "net = nd.mln.functions.get_toy_network_piotr()\n",
    "print(net)\n",
    "\n",
    "for actor in net.get_actors():\n",
    "    for layer_name in actor.layers:\n",
    "        net.layers[layer_name].nodes[actor.actor_id][\"status\"] = np.random.choice([-1, 0, 1], p=[0, 0.8, 0.2])"
   ]
  },
  {
   "cell_type": "code",
   "execution_count": null,
   "metadata": {},
   "outputs": [],
   "source": [
    "l1 = pyg.utils.from_networkx(net[\"l1\"])"
   ]
  },
  {
   "cell_type": "code",
   "execution_count": null,
   "metadata": {},
   "outputs": [],
   "source": [
    "A = pyg.utils.to_torch_sparse_tensor(l1.edge_index)\n",
    "S = l1[\"status\"].to(torch.int8)\n",
    "S, A"
   ]
  },
  {
   "cell_type": "markdown",
   "metadata": {},
   "source": [
    "## Functions"
   ]
  },
  {
   "cell_type": "code",
   "execution_count": null,
   "metadata": {},
   "outputs": [],
   "source": [
    "def draw_live_edges(A: torch.Tensor, p: float) -> torch.Tensor:\n",
    "    \"\"\"Draw eges which transmit the state (i.e. their random weight < p).\"\"\"\n",
    "    raw_signals = torch.rand_like(A.values(), dtype=float)\n",
    "    thre_signals = (raw_signals < p).to(float)\n",
    "    T = torch.sparse_coo_tensor(indices=A.indices(), values=thre_signals)\n",
    "    assert A.shape == T.shape\n",
    "    assert ((A - T).to_dense() < 0).sum() == 0\n",
    "    return T\n",
    "\n",
    "\n",
    "def mask_Sy(S: torch.Tensor) -> tuple[torch.Tensor, torch.Tensor]:\n",
    "    \"\"\"Create mask for T which discards signals from nodes which state != 1.\"\"\"\n",
    "    return (S > 0).to(torch.int).repeat(len(S), 1).T.to_sparse_coo()\n",
    "\n",
    "\n",
    "def mask_Sx(S:torch.Tensor) -> torch.Tensor:\n",
    "    \"\"\"Create mask for T which discards signals to nodes which state != 0.\"\"\"\n",
    "    return torch.abs(torch.abs(S) - 1).to_sparse_coo()\n",
    "\n",
    "\n",
    "def get_active_nodes(T: torch.Tensor, S: torch.Tensor) -> torch.Tensor:\n",
    "    \"\"\"Obtain newly active nodes (0 -> 1) in current simulation step.\"\"\"\n",
    "    Sy = mask_Sy(S)\n",
    "    Sx = mask_Sx(S)\n",
    "    S_new = (T * Sy).sum(dim=0).to_dense() * Sx.to_dense()\n",
    "    assert torch.all(S[S_new.to(torch.int).to(bool)] == 0) == torch.Tensor([True]), \\\n",
    "        \"Some nodes were activated against rules!\"\n",
    "    return S_new\n",
    "\n",
    "\n",
    "def decay_active_nodes(S: torch.Tensor) -> torch.Tensor:\n",
    "    \"\"\"Change states of nodes that are active to become activated (1 -> -1).\"\"\"\n",
    "    return -1 * torch.abs(S)\n",
    "\n",
    "\n",
    "def simulation_step(S: torch.Tensor, A: torch.Tensor, p: float) -> torch.Tensor:\n",
    "    \"\"\"\n",
    "    Make a single simulation step.\n",
    "    \n",
    "    1. determine which edges drawn value below p\n",
    "    2. try to make inactive nodes active; only those wich preserved edges with active neighbours\n",
    "    3. decay activation potential for nodes that were acting as the active in the current step\n",
    "\n",
    "    :param S: vector of node states (0 - inactive, 1 - active, -1 - activated)\n",
    "    :param A: adjacency matrix\n",
    "    :param p: probability of activation between active and inactive node\n",
    "    \"\"\"\n",
    "    T = draw_live_edges(A, p)\n",
    "    S_1 = get_active_nodes(T, S)\n",
    "    S_0 = decay_active_nodes(S)\n",
    "    return (S_1 + S_0).to(torch.int8)"
   ]
  },
  {
   "cell_type": "markdown",
   "metadata": {},
   "source": [
    "## Test"
   ]
  },
  {
   "cell_type": "code",
   "execution_count": null,
   "metadata": {},
   "outputs": [],
   "source": [
    "S_i = S\n",
    "print(S_i)\n",
    "for i in range(10):\n",
    "    S_i = simulation_step(S_i, A, p)\n",
    "    print(S_i)"
   ]
  },
  {
   "cell_type": "code",
   "execution_count": null,
   "metadata": {},
   "outputs": [],
   "source": []
  }
 ],
 "metadata": {
  "kernelspec": {
   "display_name": "nd2",
   "language": "python",
   "name": "nd2"
  },
  "language_info": {
   "codemirror_mode": {
    "name": "ipython",
    "version": 3
   },
   "file_extension": ".py",
   "mimetype": "text/x-python",
   "name": "python",
   "nbconvert_exporter": "python",
   "pygments_lexer": "ipython3",
   "version": "3.12.3"
  }
 },
 "nbformat": 4,
 "nbformat_minor": 2
}
